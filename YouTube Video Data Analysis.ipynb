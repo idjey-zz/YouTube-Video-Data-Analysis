{
 "cells": [
  {
   "cell_type": "code",
   "execution_count": 283,
   "metadata": {},
   "outputs": [],
   "source": [
    "import os\n",
    "import codecs\n",
    "import sys\n",
    "import numpy as np\n",
    "import pandas as pd\n",
    "import boto3\n",
    "import json\n",
    "from matplotlib import pyplot as plt\n",
    "from smart_open import smart_open\n",
    "import seaborn as sns"
   ]
  },
  {
   "cell_type": "code",
   "execution_count": 233,
   "metadata": {},
   "outputs": [],
   "source": [
    "#Initial SetUp\n",
    "ACCESS_KEY = 'XXXXXX'\n",
    "SECRET_KEY = 'XXXXXX'\n",
    "bucket_name = 'bucket_name'\n",
    "Bucket_location = 'us-west-2'\n",
    "client = boto3.client('s3') #low-level functional API\n",
    "file_path = 's3://bucket_name/USvideos.csv'\n",
    "file_path2 = 's3://bucket_name/US_category_id.json'"
   ]
  },
  {
   "cell_type": "markdown",
   "metadata": {},
   "source": [
    "### Dataframe USVideos CSV from S3"
   ]
  },
  {
   "cell_type": "code",
   "execution_count": 234,
   "metadata": {},
   "outputs": [
    {
     "name": "stderr",
     "output_type": "stream",
     "text": [
      "C:\\Users\\Dj_ka\\Anaconda3\\lib\\site-packages\\smart_open\\smart_open_lib.py:253: UserWarning: This function is deprecated, use smart_open.open instead. See the migration notes for details: https://github.com/RaRe-Technologies/smart_open/blob/master/README.rst#migrating-to-the-new-open-function\n",
      "  'See the migration notes for details: %s' % _MIGRATION_NOTES_URL\n"
     ]
    }
   ],
   "source": [
    "bucket_name = 'bucket_name'\n",
    "object_key_csv = 'USvideos.csv'\n",
    "path = 's3://{}:{}@{}/{}'.format(ACCESS_KEY, SECRET_KEY, bucket_name, object_key_csv)\n",
    "df_csv = pd.read_csv(smart_open(path))"
   ]
  },
  {
   "cell_type": "markdown",
   "metadata": {},
   "source": [
    "### DataFrame US_category_id JSON file from S3"
   ]
  },
  {
   "cell_type": "code",
   "execution_count": 235,
   "metadata": {},
   "outputs": [
    {
     "name": "stdout",
     "output_type": "stream",
     "text": [
      "<class 'pandas.core.frame.DataFrame'>\n",
      "RangeIndex: 32 entries, 0 to 31\n",
      "Data columns (total 3 columns):\n",
      "kind     32 non-null object\n",
      "etag     32 non-null object\n",
      "items    32 non-null object\n",
      "dtypes: object(3)\n",
      "memory usage: 896.0+ bytes\n"
     ]
    }
   ],
   "source": [
    "object_key_json = 'US_category_id.json'\n",
    "path_json = 's3://{}:{}@{}/{}'.format(ACCESS_KEY, SECRET_KEY, bucket_name,object_key_json)\n",
    "df_json = pd.read_json(smart_open(path_json))\n",
    "df_json.info()\n",
    "df_json.to_json('cat.json')"
   ]
  },
  {
   "cell_type": "markdown",
   "metadata": {},
   "source": [
    "### Let's do some cleaning"
   ]
  },
  {
   "cell_type": "code",
   "execution_count": 236,
   "metadata": {},
   "outputs": [],
   "source": [
    "for df in df_csv:\n",
    "    # video_id \n",
    "    df_csv['video_id'] = df_csv['video_id'].astype('str') \n",
    "    \n",
    "    # trending date\n",
    "    df_csv['trending_date'] = df_csv['trending_date'].astype('str') \n",
    "    date_pieces = (df_csv['trending_date'].str.split('.'))\n",
    "    df_csv['Year'] = date_pieces.str[0].astype(int)\n",
    "    df_csv['Day'] = date_pieces.str[1].astype(int)\n",
    "    df_csv['Month'] = date_pieces.str[2].astype(int)\n",
    "    updatedyear = []\n",
    "    \n",
    "    \n",
    "for i in range(len(df)): \n",
    "    y = df_csv.loc[i, \"Year\"]\n",
    "    new_year = y+2000\n",
    "    updatedyear.append(new_year)\n",
    "\n",
    "for i in range(len(df)):\n",
    "        newy = updatedyear[i]\n",
    "        tr = df_csv.loc[i, \"Year\"]\n",
    "        df_csv['Year'].replace(to_replace = tr, value = newy, inplace=True)"
   ]
  },
  {
   "cell_type": "code",
   "execution_count": 237,
   "metadata": {},
   "outputs": [
    {
     "data": {
      "text/html": [
       "<div>\n",
       "<style scoped>\n",
       "    .dataframe tbody tr th:only-of-type {\n",
       "        vertical-align: middle;\n",
       "    }\n",
       "\n",
       "    .dataframe tbody tr th {\n",
       "        vertical-align: top;\n",
       "    }\n",
       "\n",
       "    .dataframe thead th {\n",
       "        text-align: right;\n",
       "    }\n",
       "</style>\n",
       "<table border=\"1\" class=\"dataframe\">\n",
       "  <thead>\n",
       "    <tr style=\"text-align: right;\">\n",
       "      <th></th>\n",
       "      <th>video_id</th>\n",
       "      <th>trending_date</th>\n",
       "      <th>title</th>\n",
       "      <th>channel_title</th>\n",
       "      <th>category_id</th>\n",
       "      <th>publish_time</th>\n",
       "      <th>tags</th>\n",
       "      <th>views</th>\n",
       "      <th>likes</th>\n",
       "      <th>dislikes</th>\n",
       "      <th>comment_count</th>\n",
       "      <th>thumbnail_link</th>\n",
       "      <th>comments_disabled</th>\n",
       "      <th>ratings_disabled</th>\n",
       "      <th>video_error_or_removed</th>\n",
       "      <th>description</th>\n",
       "      <th>Year</th>\n",
       "      <th>Day</th>\n",
       "      <th>Month</th>\n",
       "    </tr>\n",
       "  </thead>\n",
       "  <tbody>\n",
       "    <tr>\n",
       "      <td>11323</td>\n",
       "      <td>QwZT7T-TXT0</td>\n",
       "      <td>18.09.01</td>\n",
       "      <td>So Sorry.</td>\n",
       "      <td>Logan Paul Vlogs</td>\n",
       "      <td>24</td>\n",
       "      <td>2018-01-02T16:42:21.000Z</td>\n",
       "      <td>logan paul vlog|\"logan paul\"|\"logan\"|\"paul\"|\"o...</td>\n",
       "      <td>37539570</td>\n",
       "      <td>1402578</td>\n",
       "      <td>1674420</td>\n",
       "      <td>1361580</td>\n",
       "      <td>https://i.ytimg.com/vi/QwZT7T-TXT0/default.jpg</td>\n",
       "      <td>False</td>\n",
       "      <td>False</td>\n",
       "      <td>False</td>\n",
       "      <td>NaN</td>\n",
       "      <td>18</td>\n",
       "      <td>9</td>\n",
       "      <td>1</td>\n",
       "    </tr>\n",
       "    <tr>\n",
       "      <td>6181</td>\n",
       "      <td>FlsCjmMhFmw</td>\n",
       "      <td>17.14.12</td>\n",
       "      <td>YouTube Rewind: The Shape of 2017 | #YouTubeRe...</td>\n",
       "      <td>YouTube Spotlight</td>\n",
       "      <td>24</td>\n",
       "      <td>2017-12-06T17:58:51.000Z</td>\n",
       "      <td>Rewind|\"Rewind 2017\"|\"youtube rewind 2017\"|\"#Y...</td>\n",
       "      <td>149376127</td>\n",
       "      <td>3093544</td>\n",
       "      <td>1643059</td>\n",
       "      <td>810698</td>\n",
       "      <td>https://i.ytimg.com/vi/FlsCjmMhFmw/default.jpg</td>\n",
       "      <td>False</td>\n",
       "      <td>False</td>\n",
       "      <td>False</td>\n",
       "      <td>YouTube Rewind 2017. Celebrating the videos, p...</td>\n",
       "      <td>2017</td>\n",
       "      <td>14</td>\n",
       "      <td>12</td>\n",
       "    </tr>\n",
       "    <tr>\n",
       "      <td>11096</td>\n",
       "      <td>QwZT7T-TXT0</td>\n",
       "      <td>18.08.01</td>\n",
       "      <td>So Sorry.</td>\n",
       "      <td>Logan Paul Vlogs</td>\n",
       "      <td>24</td>\n",
       "      <td>2018-01-02T16:42:21.000Z</td>\n",
       "      <td>logan paul vlog|\"logan paul\"|\"logan\"|\"paul\"|\"o...</td>\n",
       "      <td>35983135</td>\n",
       "      <td>1370845</td>\n",
       "      <td>1611043</td>\n",
       "      <td>1321281</td>\n",
       "      <td>https://i.ytimg.com/vi/QwZT7T-TXT0/default.jpg</td>\n",
       "      <td>False</td>\n",
       "      <td>False</td>\n",
       "      <td>False</td>\n",
       "      <td>NaN</td>\n",
       "      <td>18</td>\n",
       "      <td>8</td>\n",
       "      <td>1</td>\n",
       "    </tr>\n",
       "    <tr>\n",
       "      <td>5935</td>\n",
       "      <td>FlsCjmMhFmw</td>\n",
       "      <td>17.13.12</td>\n",
       "      <td>YouTube Rewind: The Shape of 2017 | #YouTubeRe...</td>\n",
       "      <td>YouTube Spotlight</td>\n",
       "      <td>24</td>\n",
       "      <td>2017-12-06T17:58:51.000Z</td>\n",
       "      <td>Rewind|\"Rewind 2017\"|\"youtube rewind 2017\"|\"#Y...</td>\n",
       "      <td>137843120</td>\n",
       "      <td>3014471</td>\n",
       "      <td>1602383</td>\n",
       "      <td>817582</td>\n",
       "      <td>https://i.ytimg.com/vi/FlsCjmMhFmw/default.jpg</td>\n",
       "      <td>False</td>\n",
       "      <td>False</td>\n",
       "      <td>False</td>\n",
       "      <td>YouTube Rewind 2017. Celebrating the videos, p...</td>\n",
       "      <td>2017</td>\n",
       "      <td>13</td>\n",
       "      <td>12</td>\n",
       "    </tr>\n",
       "    <tr>\n",
       "      <td>5699</td>\n",
       "      <td>FlsCjmMhFmw</td>\n",
       "      <td>17.12.12</td>\n",
       "      <td>YouTube Rewind: The Shape of 2017 | #YouTubeRe...</td>\n",
       "      <td>YouTube Spotlight</td>\n",
       "      <td>24</td>\n",
       "      <td>2017-12-06T17:58:51.000Z</td>\n",
       "      <td>Rewind|\"Rewind 2017\"|\"youtube rewind 2017\"|\"#Y...</td>\n",
       "      <td>125432237</td>\n",
       "      <td>2912702</td>\n",
       "      <td>1545015</td>\n",
       "      <td>807558</td>\n",
       "      <td>https://i.ytimg.com/vi/FlsCjmMhFmw/default.jpg</td>\n",
       "      <td>False</td>\n",
       "      <td>False</td>\n",
       "      <td>False</td>\n",
       "      <td>YouTube Rewind 2017. Celebrating the videos, p...</td>\n",
       "      <td>2017</td>\n",
       "      <td>12</td>\n",
       "      <td>12</td>\n",
       "    </tr>\n",
       "  </tbody>\n",
       "</table>\n",
       "</div>"
      ],
      "text/plain": [
       "          video_id trending_date  \\\n",
       "11323  QwZT7T-TXT0      18.09.01   \n",
       "6181   FlsCjmMhFmw      17.14.12   \n",
       "11096  QwZT7T-TXT0      18.08.01   \n",
       "5935   FlsCjmMhFmw      17.13.12   \n",
       "5699   FlsCjmMhFmw      17.12.12   \n",
       "\n",
       "                                                   title      channel_title  \\\n",
       "11323                                          So Sorry.   Logan Paul Vlogs   \n",
       "6181   YouTube Rewind: The Shape of 2017 | #YouTubeRe...  YouTube Spotlight   \n",
       "11096                                          So Sorry.   Logan Paul Vlogs   \n",
       "5935   YouTube Rewind: The Shape of 2017 | #YouTubeRe...  YouTube Spotlight   \n",
       "5699   YouTube Rewind: The Shape of 2017 | #YouTubeRe...  YouTube Spotlight   \n",
       "\n",
       "       category_id              publish_time  \\\n",
       "11323           24  2018-01-02T16:42:21.000Z   \n",
       "6181            24  2017-12-06T17:58:51.000Z   \n",
       "11096           24  2018-01-02T16:42:21.000Z   \n",
       "5935            24  2017-12-06T17:58:51.000Z   \n",
       "5699            24  2017-12-06T17:58:51.000Z   \n",
       "\n",
       "                                                    tags      views    likes  \\\n",
       "11323  logan paul vlog|\"logan paul\"|\"logan\"|\"paul\"|\"o...   37539570  1402578   \n",
       "6181   Rewind|\"Rewind 2017\"|\"youtube rewind 2017\"|\"#Y...  149376127  3093544   \n",
       "11096  logan paul vlog|\"logan paul\"|\"logan\"|\"paul\"|\"o...   35983135  1370845   \n",
       "5935   Rewind|\"Rewind 2017\"|\"youtube rewind 2017\"|\"#Y...  137843120  3014471   \n",
       "5699   Rewind|\"Rewind 2017\"|\"youtube rewind 2017\"|\"#Y...  125432237  2912702   \n",
       "\n",
       "       dislikes  comment_count  \\\n",
       "11323   1674420        1361580   \n",
       "6181    1643059         810698   \n",
       "11096   1611043        1321281   \n",
       "5935    1602383         817582   \n",
       "5699    1545015         807558   \n",
       "\n",
       "                                       thumbnail_link  comments_disabled  \\\n",
       "11323  https://i.ytimg.com/vi/QwZT7T-TXT0/default.jpg              False   \n",
       "6181   https://i.ytimg.com/vi/FlsCjmMhFmw/default.jpg              False   \n",
       "11096  https://i.ytimg.com/vi/QwZT7T-TXT0/default.jpg              False   \n",
       "5935   https://i.ytimg.com/vi/FlsCjmMhFmw/default.jpg              False   \n",
       "5699   https://i.ytimg.com/vi/FlsCjmMhFmw/default.jpg              False   \n",
       "\n",
       "       ratings_disabled  video_error_or_removed  \\\n",
       "11323             False                   False   \n",
       "6181              False                   False   \n",
       "11096             False                   False   \n",
       "5935              False                   False   \n",
       "5699              False                   False   \n",
       "\n",
       "                                             description  Year  Day  Month  \n",
       "11323                                                NaN    18    9      1  \n",
       "6181   YouTube Rewind 2017. Celebrating the videos, p...  2017   14     12  \n",
       "11096                                                NaN    18    8      1  \n",
       "5935   YouTube Rewind 2017. Celebrating the videos, p...  2017   13     12  \n",
       "5699   YouTube Rewind 2017. Celebrating the videos, p...  2017   12     12  "
      ]
     },
     "execution_count": 237,
     "metadata": {},
     "output_type": "execute_result"
    }
   ],
   "source": [
    "df_csv.sort_values(by='dislikes',ascending=False).head(5)"
   ]
  },
  {
   "cell_type": "code",
   "execution_count": 238,
   "metadata": {},
   "outputs": [],
   "source": [
    "#title\n",
    "df_csv['title'] = df_csv['title'].astype('str')    \n",
    "#channel_title\n",
    "df_csv['channel_title'] = df_csv['channel_title'].astype('str')\n",
    "#category_id\n",
    "df_csv['category_id'] = df_csv['category_id'].astype(str) \n",
    "#tags\n",
    "df_csv['tags'] = df_csv['tags'].astype('str')\n",
    "#thumbnail_link\n",
    "df_csv['thumbnail_link'] = df_csv['thumbnail_link'].astype('str') \n",
    "#description\n",
    "df_csv['description'] = df_csv['description'].astype('str')"
   ]
  },
  {
   "cell_type": "code",
   "execution_count": 239,
   "metadata": {},
   "outputs": [],
   "source": [
    "# Changing comments_disabled, ratings_disabled, video_error_or_removed from bool to categorical\n",
    "df_csv['comments_disabled'] = df_csv['comments_disabled'].astype('category') \n",
    "df_csv['ratings_disabled'] = df_csv['ratings_disabled'].astype('category') \n",
    "df_csv['video_error_or_removed'] = df_csv['video_error_or_removed'].astype('category')"
   ]
  },
  {
   "cell_type": "code",
   "execution_count": 240,
   "metadata": {},
   "outputs": [],
   "source": [
    "# publish_time \n",
    "df_csv['publish_time'] = pd.to_datetime(df_csv['publish_time'], errors='coerce',format='%Y-%m-%dT%H:%M:%S.%fZ')"
   ]
  },
  {
   "cell_type": "code",
   "execution_count": 241,
   "metadata": {},
   "outputs": [
    {
     "data": {
      "text/html": [
       "<div>\n",
       "<style scoped>\n",
       "    .dataframe tbody tr th:only-of-type {\n",
       "        vertical-align: middle;\n",
       "    }\n",
       "\n",
       "    .dataframe tbody tr th {\n",
       "        vertical-align: top;\n",
       "    }\n",
       "\n",
       "    .dataframe thead th {\n",
       "        text-align: right;\n",
       "    }\n",
       "</style>\n",
       "<table border=\"1\" class=\"dataframe\">\n",
       "  <thead>\n",
       "    <tr style=\"text-align: right;\">\n",
       "      <th></th>\n",
       "      <th>video_id</th>\n",
       "      <th>trending_date</th>\n",
       "      <th>title</th>\n",
       "      <th>channel_title</th>\n",
       "      <th>category_id</th>\n",
       "      <th>publish_time</th>\n",
       "      <th>tags</th>\n",
       "      <th>views</th>\n",
       "      <th>likes</th>\n",
       "      <th>dislikes</th>\n",
       "      <th>comment_count</th>\n",
       "      <th>thumbnail_link</th>\n",
       "      <th>comments_disabled</th>\n",
       "      <th>ratings_disabled</th>\n",
       "      <th>video_error_or_removed</th>\n",
       "      <th>description</th>\n",
       "      <th>Year</th>\n",
       "      <th>Day</th>\n",
       "      <th>Month</th>\n",
       "    </tr>\n",
       "  </thead>\n",
       "  <tbody>\n",
       "    <tr>\n",
       "      <td>0</td>\n",
       "      <td>2kyS6SvSYSE</td>\n",
       "      <td>17.14.11</td>\n",
       "      <td>WE WANT TO TALK ABOUT OUR MARRIAGE</td>\n",
       "      <td>CaseyNeistat</td>\n",
       "      <td>22</td>\n",
       "      <td>2017-11-13 17:13:01</td>\n",
       "      <td>SHANtell martin</td>\n",
       "      <td>748374</td>\n",
       "      <td>57527</td>\n",
       "      <td>2966</td>\n",
       "      <td>15954</td>\n",
       "      <td>https://i.ytimg.com/vi/2kyS6SvSYSE/default.jpg</td>\n",
       "      <td>False</td>\n",
       "      <td>False</td>\n",
       "      <td>False</td>\n",
       "      <td>SHANTELL'S CHANNEL - https://www.youtube.com/s...</td>\n",
       "      <td>2017</td>\n",
       "      <td>14</td>\n",
       "      <td>11</td>\n",
       "    </tr>\n",
       "    <tr>\n",
       "      <td>1</td>\n",
       "      <td>1ZAPwfrtAFY</td>\n",
       "      <td>17.14.11</td>\n",
       "      <td>The Trump Presidency: Last Week Tonight with J...</td>\n",
       "      <td>LastWeekTonight</td>\n",
       "      <td>24</td>\n",
       "      <td>2017-11-13 07:30:00</td>\n",
       "      <td>last week tonight trump presidency|\"last week ...</td>\n",
       "      <td>2418783</td>\n",
       "      <td>97185</td>\n",
       "      <td>6146</td>\n",
       "      <td>12703</td>\n",
       "      <td>https://i.ytimg.com/vi/1ZAPwfrtAFY/default.jpg</td>\n",
       "      <td>False</td>\n",
       "      <td>False</td>\n",
       "      <td>False</td>\n",
       "      <td>One year after the presidential election, John...</td>\n",
       "      <td>2017</td>\n",
       "      <td>14</td>\n",
       "      <td>11</td>\n",
       "    </tr>\n",
       "    <tr>\n",
       "      <td>2</td>\n",
       "      <td>5qpjK5DgCt4</td>\n",
       "      <td>17.14.11</td>\n",
       "      <td>Racist Superman | Rudy Mancuso, King Bach &amp; Le...</td>\n",
       "      <td>Rudy Mancuso</td>\n",
       "      <td>23</td>\n",
       "      <td>2017-11-12 19:05:24</td>\n",
       "      <td>racist superman|\"rudy\"|\"mancuso\"|\"king\"|\"bach\"...</td>\n",
       "      <td>3191434</td>\n",
       "      <td>146033</td>\n",
       "      <td>5339</td>\n",
       "      <td>8181</td>\n",
       "      <td>https://i.ytimg.com/vi/5qpjK5DgCt4/default.jpg</td>\n",
       "      <td>False</td>\n",
       "      <td>False</td>\n",
       "      <td>False</td>\n",
       "      <td>WATCH MY PREVIOUS VIDEO ▶ \\n\\nSUBSCRIBE ► http...</td>\n",
       "      <td>2017</td>\n",
       "      <td>14</td>\n",
       "      <td>11</td>\n",
       "    </tr>\n",
       "    <tr>\n",
       "      <td>3</td>\n",
       "      <td>puqaWrEC7tY</td>\n",
       "      <td>17.14.11</td>\n",
       "      <td>Nickelback Lyrics: Real or Fake?</td>\n",
       "      <td>Good Mythical Morning</td>\n",
       "      <td>24</td>\n",
       "      <td>2017-11-13 11:00:04</td>\n",
       "      <td>rhett and link|\"gmm\"|\"good mythical morning\"|\"...</td>\n",
       "      <td>343168</td>\n",
       "      <td>10172</td>\n",
       "      <td>666</td>\n",
       "      <td>2146</td>\n",
       "      <td>https://i.ytimg.com/vi/puqaWrEC7tY/default.jpg</td>\n",
       "      <td>False</td>\n",
       "      <td>False</td>\n",
       "      <td>False</td>\n",
       "      <td>Today we find out if Link is a Nickelback amat...</td>\n",
       "      <td>2017</td>\n",
       "      <td>14</td>\n",
       "      <td>11</td>\n",
       "    </tr>\n",
       "    <tr>\n",
       "      <td>4</td>\n",
       "      <td>d380meD0W0M</td>\n",
       "      <td>17.14.11</td>\n",
       "      <td>I Dare You: GOING BALD!?</td>\n",
       "      <td>nigahiga</td>\n",
       "      <td>24</td>\n",
       "      <td>2017-11-12 18:01:41</td>\n",
       "      <td>ryan|\"higa\"|\"higatv\"|\"nigahiga\"|\"i dare you\"|\"...</td>\n",
       "      <td>2095731</td>\n",
       "      <td>132235</td>\n",
       "      <td>1989</td>\n",
       "      <td>17518</td>\n",
       "      <td>https://i.ytimg.com/vi/d380meD0W0M/default.jpg</td>\n",
       "      <td>False</td>\n",
       "      <td>False</td>\n",
       "      <td>False</td>\n",
       "      <td>I know it's been a while since we did this sho...</td>\n",
       "      <td>2017</td>\n",
       "      <td>14</td>\n",
       "      <td>11</td>\n",
       "    </tr>\n",
       "  </tbody>\n",
       "</table>\n",
       "</div>"
      ],
      "text/plain": [
       "      video_id trending_date  \\\n",
       "0  2kyS6SvSYSE      17.14.11   \n",
       "1  1ZAPwfrtAFY      17.14.11   \n",
       "2  5qpjK5DgCt4      17.14.11   \n",
       "3  puqaWrEC7tY      17.14.11   \n",
       "4  d380meD0W0M      17.14.11   \n",
       "\n",
       "                                               title          channel_title  \\\n",
       "0                 WE WANT TO TALK ABOUT OUR MARRIAGE           CaseyNeistat   \n",
       "1  The Trump Presidency: Last Week Tonight with J...        LastWeekTonight   \n",
       "2  Racist Superman | Rudy Mancuso, King Bach & Le...           Rudy Mancuso   \n",
       "3                   Nickelback Lyrics: Real or Fake?  Good Mythical Morning   \n",
       "4                           I Dare You: GOING BALD!?               nigahiga   \n",
       "\n",
       "  category_id        publish_time  \\\n",
       "0          22 2017-11-13 17:13:01   \n",
       "1          24 2017-11-13 07:30:00   \n",
       "2          23 2017-11-12 19:05:24   \n",
       "3          24 2017-11-13 11:00:04   \n",
       "4          24 2017-11-12 18:01:41   \n",
       "\n",
       "                                                tags    views   likes  \\\n",
       "0                                    SHANtell martin   748374   57527   \n",
       "1  last week tonight trump presidency|\"last week ...  2418783   97185   \n",
       "2  racist superman|\"rudy\"|\"mancuso\"|\"king\"|\"bach\"...  3191434  146033   \n",
       "3  rhett and link|\"gmm\"|\"good mythical morning\"|\"...   343168   10172   \n",
       "4  ryan|\"higa\"|\"higatv\"|\"nigahiga\"|\"i dare you\"|\"...  2095731  132235   \n",
       "\n",
       "   dislikes  comment_count                                  thumbnail_link  \\\n",
       "0      2966          15954  https://i.ytimg.com/vi/2kyS6SvSYSE/default.jpg   \n",
       "1      6146          12703  https://i.ytimg.com/vi/1ZAPwfrtAFY/default.jpg   \n",
       "2      5339           8181  https://i.ytimg.com/vi/5qpjK5DgCt4/default.jpg   \n",
       "3       666           2146  https://i.ytimg.com/vi/puqaWrEC7tY/default.jpg   \n",
       "4      1989          17518  https://i.ytimg.com/vi/d380meD0W0M/default.jpg   \n",
       "\n",
       "  comments_disabled ratings_disabled video_error_or_removed  \\\n",
       "0             False            False                  False   \n",
       "1             False            False                  False   \n",
       "2             False            False                  False   \n",
       "3             False            False                  False   \n",
       "4             False            False                  False   \n",
       "\n",
       "                                         description  Year  Day  Month  \n",
       "0  SHANTELL'S CHANNEL - https://www.youtube.com/s...  2017   14     11  \n",
       "1  One year after the presidential election, John...  2017   14     11  \n",
       "2  WATCH MY PREVIOUS VIDEO ▶ \\n\\nSUBSCRIBE ► http...  2017   14     11  \n",
       "3  Today we find out if Link is a Nickelback amat...  2017   14     11  \n",
       "4  I know it's been a while since we did this sho...  2017   14     11  "
      ]
     },
     "execution_count": 241,
     "metadata": {},
     "output_type": "execute_result"
    }
   ],
   "source": [
    "df_csv.head()"
   ]
  },
  {
   "cell_type": "markdown",
   "metadata": {},
   "source": [
    "### Let's clean missing values\n",
    "##### Here we're looking for missing values in the given dataset, Missing values plays major role in statistical examination. As we can see in heatmap, we have missing values in description column, which is not containing any numarical data."
   ]
  },
  {
   "cell_type": "code",
   "execution_count": 242,
   "metadata": {},
   "outputs": [
    {
     "data": {
      "text/plain": [
       "<Figure size 432x288 with 0 Axes>"
      ]
     },
     "execution_count": 242,
     "metadata": {},
     "output_type": "execute_result"
    },
    {
     "data": {
      "image/png": "[encoded data removed]",
      "text/plain": [
       "<Figure size 432x288 with 1 Axes>"
      ]
     },
     "metadata": {
      "needs_background": "light"
     },
     "output_type": "display_data"
    },
    {
     "data": {
      "text/plain": [
       "<Figure size 432x288 with 0 Axes>"
      ]
     },
     "metadata": {},
     "output_type": "display_data"
    }
   ],
   "source": [
    "for df in df_csv:\n",
    "    sns.heatmap(df_csv.isnull(), cmap = 'viridis', cbar=False)\n",
    "    sns.color_palette(\"bright\", 10)\n",
    "plt.figure()"
   ]
  },
  {
   "cell_type": "code",
   "execution_count": 243,
   "metadata": {},
   "outputs": [
    {
     "name": "stdout",
     "output_type": "stream",
     "text": [
      "video_id 0\n",
      "trending_date 0\n",
      "title 0\n",
      "channel_title 0\n",
      "category_id 0\n",
      "publish_time 0\n",
      "tags 0\n",
      "views 0\n",
      "likes 0\n",
      "dislikes 0\n",
      "comment_count 0\n",
      "thumbnail_link 0\n",
      "comments_disabled 0\n",
      "ratings_disabled 0\n",
      "video_error_or_removed 0\n",
      "description 0\n",
      "Year 0\n",
      "Day 0\n",
      "Month 0\n"
     ]
    }
   ],
   "source": [
    "# See counts of missing value\n",
    "for c in df_csv.columns:\n",
    "    print(c,np.sum(df_csv[c].isnull()))"
   ]
  },
  {
   "cell_type": "markdown",
   "metadata": {},
   "source": [
    "## The 1,000 most viewed videos"
   ]
  },
  {
   "cell_type": "code",
   "execution_count": 303,
   "metadata": {},
   "outputs": [
    {
     "data": {
      "text/plain": [
       "(1000, 2)"
      ]
     },
     "execution_count": 303,
     "metadata": {},
     "output_type": "execute_result"
    }
   ],
   "source": [
    "most_viewed = df_csv.sort_values(by='views',ascending=False).groupby('title').views.sum().rename('Total_Views').\\\n",
    "reset_index().sort_values(by='Total_Views',ascending = False).nlargest(1000,['Total_Views'])\n",
    "most_viewed.shape\n",
    "most_viewed.to_csv('s3://bucket_name/output/1000_most_viewed_videos.csv')"
   ]
  },
  {
   "cell_type": "markdown",
   "metadata": {},
   "source": [
    "## The 1,000 most disliked videos"
   ]
  },
  {
   "cell_type": "code",
   "execution_count": 304,
   "metadata": {},
   "outputs": [
    {
     "data": {
      "text/plain": [
       "(1000, 19)"
      ]
     },
     "execution_count": 304,
     "metadata": {},
     "output_type": "execute_result"
    }
   ],
   "source": [
    "new_dislike_df = df_csv.sort_values('dislikes', ascending=False).groupby(['title'], sort=False).head(1000)\n",
    "most_dislikes = new_dislike_df.nlargest(1000,['dislikes'])\n",
    "most_dislikes.shape\n",
    "most_dislikes.to_csv('s3://bucket_name/output/1000_most_disliked_video.csv', encoding='utf-8')"
   ]
  },
  {
   "cell_type": "markdown",
   "metadata": {},
   "source": [
    "## The 1,000 most popular channels\n",
    "###### Here we will assume, 1000 most popular channels by views"
   ]
  },
  {
   "cell_type": "code",
   "execution_count": 305,
   "metadata": {},
   "outputs": [
    {
     "data": {
      "text/plain": [
       "(1000, 2)"
      ]
     },
     "execution_count": 305,
     "metadata": {},
     "output_type": "execute_result"
    }
   ],
   "source": [
    "most_popular = df_csv.groupby('channel_title').views.sum().rename('total_views').\\\n",
    "reset_index().sort_values(by='total_views',ascending=False)\n",
    "most_popular_new = most_popular.nlargest(1000,['total_views'])\n",
    "most_popular_new.shape\n",
    "most_popular_new.to_csv('s3://bucket_name/output/1000_most_popular_channels.csv', encoding = 'utf-8')"
   ]
  },
  {
   "cell_type": "markdown",
   "metadata": {},
   "source": [
    "## The 10 most viewed categories"
   ]
  },
  {
   "cell_type": "code",
   "execution_count": 306,
   "metadata": {},
   "outputs": [
    {
     "data": {
      "text/plain": [
       "(10, 2)"
      ]
     },
     "execution_count": 306,
     "metadata": {},
     "output_type": "execute_result"
    }
   ],
   "source": [
    "most_categories = df_csv.groupby('category_id').views.sum().rename('total_views').\\\n",
    "reset_index().sort_values(by='total_views',ascending=False).nlargest(10,'total_views')\n",
    "most_categories.shape\n",
    "most_categories.to_csv('s3://bucket_name/output/10_most_viewed_categories.csv')"
   ]
  },
  {
   "cell_type": "code",
   "execution_count": null,
   "metadata": {},
   "outputs": [],
   "source": []
  }
 ],
 "metadata": {
  "kernelspec": {
   "display_name": "Python 3",
   "language": "python",
   "name": "python3"
  },
  "language_info": {
   "codemirror_mode": {
    "name": "ipython",
    "version": 3
   },
   "file_extension": ".py",
   "mimetype": "text/x-python",
   "name": "python",
   "nbconvert_exporter": "python",
   "pygments_lexer": "ipython3",
   "version": "3.7.4"
  }
 },
 "nbformat": 4,
 "nbformat_minor": 2
}
